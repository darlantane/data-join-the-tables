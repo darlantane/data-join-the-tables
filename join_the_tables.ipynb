{
 "cells": [
  {
   "cell_type": "markdown",
   "metadata": {},
   "source": [
    "# Join the tables\n",
    "\n",
    "Now we are going to dive into `JOIN` queries to read data from multiple tables."
   ]
  },
  {
   "cell_type": "markdown",
   "metadata": {},
   "source": [
    "## Data\n",
    "We will work with the `ecommerce.sqlite` database available at this URL:\n",
    "`https://wagon-public-datasets.s3.amazonaws.com/sql_databases/ecommerce.sqlite`\n",
    "\n",
    "Run the cell below to download the file:"
   ]
  },
  {
   "cell_type": "code",
   "execution_count": null,
   "metadata": {},
   "outputs": [],
   "source": [
    "!curl https://wagon-public-datasets.s3.amazonaws.com/sql_databases/ecommerce.sqlite > data/ecommerce.sqlite"
   ]
  },
  {
   "cell_type": "markdown",
   "metadata": {},
   "source": [
    "## Database Discovery\n",
    "\n",
    "You already explored this databasse. Remember you can use the VS Code SQLite extension to explore the database (once you downloaded the database).\n",
    "\n",
    "- Hit `Ctrl-Shift-P` or `Cmd-Shift-P`\n",
    "- Start typing until you see `SQLite: Open Database`\n",
    "- `Enter`\n",
    "- Select the database file from the dropdown\n",
    "- In the bottom left corner, click on `SQLITE EXPLORER`"
   ]
  },
  {
   "cell_type": "markdown",
   "metadata": {},
   "source": [
    "## Setup\n",
    "\n",
    "Pandas and sqlite3 is all we need :-)"
   ]
  },
  {
   "cell_type": "code",
   "execution_count": null,
   "metadata": {},
   "outputs": [],
   "source": [
    "import pandas as pd\n",
    "from sqlite3 import connect"
   ]
  },
  {
   "cell_type": "markdown",
   "metadata": {},
   "source": [
    "## Detailed Orders\n",
    "\n",
    "👉 Write a SQL Query to get the customer contact name and the employee first name of all the orders made."
   ]
  },
  {
   "cell_type": "code",
   "execution_count": null,
   "metadata": {},
   "outputs": [],
   "source": [
    "# Return a list of all orders (order_id, customer.contact_name,\n",
    "# employee.firstname) ordered by order_id\n",
    "query_detailed_orders = \"\"\"\n",
    "    SELECT \"You have to write your query here\" AS TODO -- Replace this line by your SQL query\n",
    "\"\"\""
   ]
  },
  {
   "cell_type": "code",
   "execution_count": null,
   "metadata": {},
   "outputs": [],
   "source": [
    "with connect('data/ecommerce.sqlite') as conn:\n",
    "    df = pd.read_sql(\n",
    "        query_detailed_orders,\n",
    "        con=conn\n",
    "    )\n",
    "df.head()"
   ]
  },
  {
   "cell_type": "markdown",
   "metadata": {},
   "source": [
    "When the result looks like expected, run the following cells to try and test your query."
   ]
  },
  {
   "cell_type": "code",
   "execution_count": null,
   "metadata": {},
   "outputs": [],
   "source": [
    "from nbresult import ChallengeResult\n",
    "result = ChallengeResult(\n",
    "    'detailed_orders',\n",
    "    query=query_detailed_orders\n",
    ")\n",
    "result.write(); print(result.check())"
   ]
  },
  {
   "cell_type": "markdown",
   "metadata": {},
   "source": [
    "## Spend per Customer\n",
    "\n",
    "👉 Write a SQL Query to get the total amount spent per customer - in ascending order. 👌\n",
    "\n",
    "ℹ️ We won't consider the freight charge here."
   ]
  },
  {
   "cell_type": "code",
   "execution_count": null,
   "metadata": {},
   "outputs": [],
   "source": [
    "# Return the total amount spent per customer ordered by ascending total\n",
    "# amount (to 2 decimal places)\n",
    "# Example :\n",
    "#     Jean   |   100\n",
    "#     Marc   |   110\n",
    "#     Simon  |   432\n",
    "#     ...\n",
    "query_spent_per_customer = \"\"\"\n",
    "    SELECT \"You have to write your query here\" AS TODO -- Replace this line by your SQL query\n",
    "\"\"\""
   ]
  },
  {
   "cell_type": "code",
   "execution_count": null,
   "metadata": {},
   "outputs": [],
   "source": [
    "with connect('data/ecommerce.sqlite') as conn:\n",
    "    df = pd.read_sql(\n",
    "        query_spent_per_customer,\n",
    "        con=conn\n",
    "    )\n",
    "df.head()"
   ]
  },
  {
   "cell_type": "markdown",
   "metadata": {},
   "source": [
    "When the result looks like expected, run the following cells to try and test your query."
   ]
  },
  {
   "cell_type": "code",
   "execution_count": null,
   "metadata": {},
   "outputs": [],
   "source": [
    "from nbresult import ChallengeResult\n",
    "result = ChallengeResult(\n",
    "    'spent_per_customer',\n",
    "    query=query_spent_per_customer\n",
    ")\n",
    "result.write(); print(result.check())"
   ]
  },
  {
   "cell_type": "markdown",
   "metadata": {},
   "source": [
    "## Who sells the most:\n",
    "\n",
    "👉 Write a SQL Query to Implement `best_employee method` to determine who's the best employee! By \"best employee\", we mean the one who sells the most. 👑\n",
    "\n",
    "We expect the function to return `'FirstName', 'LastName', 6000 (the sum of all purchases)`. The order of information is irrelevant.\n"
   ]
  },
  {
   "cell_type": "code",
   "execution_count": null,
   "metadata": {},
   "outputs": [],
   "source": [
    "# Return the best employee! By “best employee”, we mean the one who sells the most.\n",
    "# We expect: 'FirstName', 'LastName', 6000 (the sum of all purchase)).\n",
    "# The order of the information is irrelevant'''\n",
    "query_best_employee = \"\"\"\n",
    "    SELECT \"You have to write your query here\" AS TODO -- Replace this line by your SQL query\n",
    "\"\"\""
   ]
  },
  {
   "cell_type": "code",
   "execution_count": null,
   "metadata": {},
   "outputs": [],
   "source": [
    "with connect('data/ecommerce.sqlite') as conn:\n",
    "    df = pd.read_sql(\n",
    "        query_best_employee,\n",
    "        con=conn\n",
    "    )\n",
    "df.head()"
   ]
  },
  {
   "cell_type": "markdown",
   "metadata": {},
   "source": [
    "When the result looks like expected, run the following cells to try and test your query."
   ]
  },
  {
   "cell_type": "code",
   "execution_count": null,
   "metadata": {},
   "outputs": [],
   "source": [
    "from nbresult import ChallengeResult\n",
    "result = ChallengeResult(\n",
    "    'best_employee',\n",
    "    query=query_best_employee\n",
    ")\n",
    "result.write(); print(result.check())"
   ]
  },
  {
   "cell_type": "markdown",
   "metadata": {},
   "source": [
    "## Who doesn't buy anything?\n",
    "\n",
    "👉 Write a SQL Query to get the amount of Orders made by each Customer. As you can guess with the title, you should also display customers with no order!"
   ]
  },
  {
   "cell_type": "code",
   "execution_count": null,
   "metadata": {},
   "outputs": [],
   "source": [
    "# Return a list with the contactName of the customer and the number of orders they made\n",
    "# (contactName, number_of_orders). Order the list by ascending number of orders'''\n",
    "query_orders_per_customer = \"\"\"\n",
    "    SELECT \"You have to write your query here\" AS TODO -- Replace this line by your SQL query\n",
    "\"\"\""
   ]
  },
  {
   "cell_type": "code",
   "execution_count": null,
   "metadata": {},
   "outputs": [],
   "source": [
    "with connect('data/ecommerce.sqlite') as conn:\n",
    "    df = pd.read_sql(\n",
    "        query_orders_per_customer,\n",
    "        con=conn\n",
    "    )\n",
    "df.head()"
   ]
  },
  {
   "cell_type": "markdown",
   "metadata": {},
   "source": [
    "When the result looks like expected, run the following cells to try and test your query."
   ]
  },
  {
   "cell_type": "code",
   "execution_count": null,
   "metadata": {},
   "outputs": [],
   "source": [
    "from nbresult import ChallengeResult\n",
    "result = ChallengeResult(\n",
    "    'orders_per_customer',\n",
    "    query=query_orders_per_customer\n",
    ")\n",
    "result.write(); print(result.check())"
   ]
  }
 ],
 "metadata": {
  "kernelspec": {
   "display_name": "Python 3",
   "language": "python",
   "name": "python3"
  }
 },
 "nbformat": 4,
 "nbformat_minor": 4
}
